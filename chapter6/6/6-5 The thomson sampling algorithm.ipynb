{
 "cells": [
  {
   "cell_type": "markdown",
   "metadata": {},
   "source": [
    "# The Thomson sampling 알고리즘 \n",
    "#### - 사전분포(prior distribution) 를 기반으로한 확률 알고리즘\n",
    "#### - TS 전략 \n",
    "- 각 k 레버의 평균 보상에 대해 사전분포 계산 \n",
    "    - 각 k 레버에서 n개의 샘플을 추출하여 k 분포 계산\n",
    "    - 이러한 초기 분포는 실제 분포와 일치하지 않음 \n",
    "    - 이때의 k분포를 사전 분포라 함\n",
    "    <img src=\"./image/TS.PNG\">\n",
    "    \n",
    "- 베르누이 보상을 가지기 때문에, 사전분포를 계산하기 위해서는 베타분포 사용 \n",
    "    - 베타 분포의 [알파, 베타]값은 0과 1사이 값 \n",
    "    - 알파: 긍정 보상을 얻은 횟수 \n",
    "    - 베타: 부정 보상을 얻은 횟수 \n",
    "    \n",
    "#### - TS 알고리즘 순서 \n",
    "- 1. 각 k분포에 대해 값을 샘플링하고 그 값을 초기 평균으로 사용 \n",
    "- 2. 가장 높은 초기 평균을 갖는 레버를 선택하고 관찰과 보상을 얻음\n",
    "- 3. 초기 분포를 수정하는데에 관찰된 보상을 사용 \n",
    "- 몇 번의 반복후에는 초기 분포가 실제 분포와 비슷해져 갈 것 \n",
    "<img src=\"./image/TS2.PNG\">"
   ]
  },
  {
   "cell_type": "code",
   "execution_count": 1,
   "metadata": {},
   "outputs": [],
   "source": [
    "import gym\n",
    "import gym_bandits\n",
    "import numpy as np\n",
    "import math\n",
    "import random"
   ]
  },
  {
   "cell_type": "code",
   "execution_count": 2,
   "metadata": {},
   "outputs": [
    {
     "name": "stdout",
     "output_type": "stream",
     "text": [
      "\u001b[33mWARN: Environment '<class 'gym_bandits.bandit.BanditTenArmedGaussian'>' has deprecated methods '_step' and '_reset' rather than 'step' and 'reset'. Compatibility code invoked. Set _gym_disable_underscore_compat = True to disable this behavior.\u001b[0m\n"
     ]
    },
    {
     "data": {
      "text/plain": [
       "0"
      ]
     },
     "execution_count": 2,
     "metadata": {},
     "output_type": "execute_result"
    }
   ],
   "source": [
    "env = gym.make(\"BanditTenArmedGaussian-v0\")\n",
    "env.reset()"
   ]
  },
  {
   "cell_type": "code",
   "execution_count": 4,
   "metadata": {},
   "outputs": [],
   "source": [
    "def thompson_sampling(alpha,beta):\n",
    "    \n",
    "    samples = [np.random.beta(alpha[i]+1,beta[i]+1) for i in range(10)]\n",
    "    #np.random.beta(알파, 베타): 베타함수에서 샘플링\n",
    "    return np.argmax(samples)"
   ]
  },
  {
   "cell_type": "code",
   "execution_count": 5,
   "metadata": {},
   "outputs": [],
   "source": [
    "num_rounds = 20000\n",
    "\n",
    "count = np.zeros(10)\n",
    "\n",
    "sum_rewards = np.zeros(10)\n",
    "\n",
    "\n",
    "Q = np.zeros(10)\n",
    "\n",
    "# alpha, beta 값 초기화\n",
    "alpha = np.ones(10)\n",
    "beta = np.ones(10)"
   ]
  },
  {
   "cell_type": "code",
   "execution_count": 6,
   "metadata": {},
   "outputs": [
    {
     "name": "stdout",
     "output_type": "stream",
     "text": [
      "The optimal arm is 4\n"
     ]
    }
   ],
   "source": [
    "\n",
    "for i in range(num_rounds):\n",
    "    \n",
    "    arm = thompson_sampling(alpha,beta)\n",
    "    \n",
    "    observation, reward, done, info = env.step(arm) \n",
    "  \n",
    "    count[arm] += 1\n",
    "    \n",
    "    sum_rewards[arm]+=reward\n",
    "  \n",
    "    Q[arm] = sum_rewards[arm]/count[arm]\n",
    "\n",
    "    # 긍정 보상이면 alpha 증가 \n",
    "    if reward >0: \n",
    "        alpha[arm] += 1\n",
    "        \n",
    "    # 부정 보상이면 beta 증가\n",
    "    else:\n",
    "        beta[arm] += 1\n",
    "    \n",
    "print( 'The optimal arm is {}'.format(np.argmax(Q)))"
   ]
  },
  {
   "cell_type": "code",
   "execution_count": null,
   "metadata": {},
   "outputs": [],
   "source": []
  }
 ],
 "metadata": {
  "kernelspec": {
   "display_name": "Python 3",
   "language": "python",
   "name": "python3"
  },
  "language_info": {
   "codemirror_mode": {
    "name": "ipython",
    "version": 3
   },
   "file_extension": ".py",
   "mimetype": "text/x-python",
   "name": "python",
   "nbconvert_exporter": "python",
   "pygments_lexer": "ipython3",
   "version": "3.6.6"
  }
 },
 "nbformat": 4,
 "nbformat_minor": 2
}
