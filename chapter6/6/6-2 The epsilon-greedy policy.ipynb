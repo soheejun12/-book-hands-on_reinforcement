{
 "cells": [
  {
   "cell_type": "markdown",
   "metadata": {},
   "source": [
    "# epsilon greedy 정책 \n",
    "<img src=\"./image/EPSILON_GREEDY.PNG\">\n",
    "\n",
    "- epsilon의 확률로 랜덤하게 레버 선택 \n",
    "- (1 - epsilon)의 확률로 최적의 레버 선택 "
   ]
  },
  {
   "cell_type": "code",
   "execution_count": 6,
   "metadata": {},
   "outputs": [],
   "source": [
    "import numpy as np\n",
    "import gym_bandits #git으로 설치 \n",
    "import gym"
   ]
  },
  {
   "cell_type": "code",
   "execution_count": 7,
   "metadata": {},
   "outputs": [
    {
     "name": "stdout",
     "output_type": "stream",
     "text": [
      "\u001b[33mWARN: Environment '<class 'gym_bandits.bandit.BanditTenArmedGaussian'>' has deprecated methods '_step' and '_reset' rather than 'step' and 'reset'. Compatibility code invoked. Set _gym_disable_underscore_compat = True to disable this behavior.\u001b[0m\n"
     ]
    }
   ],
   "source": [
    "env = gym.make(\"BanditTenArmedGaussian-v0\")"
   ]
  },
  {
   "cell_type": "code",
   "execution_count": 9,
   "metadata": {},
   "outputs": [
    {
     "data": {
      "text/plain": [
       "0"
      ]
     },
     "execution_count": 9,
     "metadata": {},
     "output_type": "execute_result"
    }
   ],
   "source": [
    "env.reset()"
   ]
  },
  {
   "cell_type": "code",
   "execution_count": 11,
   "metadata": {},
   "outputs": [],
   "source": [
    "num_rounds = 20000 #반복 횟수 \n",
    "\n",
    "count = np.zeros(10) #레버를 당길 횟수 \n",
    "\n",
    "sum_rewards = np.zeros(10) #각 레버의 보상 합\n",
    "\n",
    "Q = np.zeros(10) #Q값 (평균 보상)"
   ]
  },
  {
   "cell_type": "markdown",
   "metadata": {},
   "source": [
    "- epsilon greedy 함수 정의 "
   ]
  },
  {
   "cell_type": "code",
   "execution_count": 12,
   "metadata": {},
   "outputs": [],
   "source": [
    "def epsilon_greedy(epsilon):\n",
    "    rand = np.random.random()\n",
    "    \n",
    "    if rand < epsilon:\n",
    "        action = env.action_space.sample() #exploaration\n",
    "        \n",
    "    else:\n",
    "        action = np.argmax(Q) #가장 높은 Q값을 가지는 레버 번호 #exploit\n",
    "        \n",
    "    return action"
   ]
  },
  {
   "cell_type": "markdown",
   "metadata": {},
   "source": [
    "- 레버를 당겨보자 "
   ]
  },
  {
   "cell_type": "code",
   "execution_count": 13,
   "metadata": {},
   "outputs": [
    {
     "name": "stdout",
     "output_type": "stream",
     "text": [
      "The optimal arm is 4\n"
     ]
    }
   ],
   "source": [
    "for i in range(num_rounds):\n",
    "    \n",
    "    #epsilon greedy를 통해 레버 선택\n",
    "    arm = epsilon_greedy(0.5)\n",
    "    \n",
    "    observation, reward, done, info = env.step(arm)\n",
    "    \n",
    "    #당긴 레버에 대해 당긴 횟수 추가 \n",
    "    count[arm] += 1 \n",
    "    \n",
    "    #레버를 당겨서 얻은 보상 합\n",
    "    sum_rewards[arm] += reward\n",
    "    \n",
    "    #레버의 평균 보상인 Q값 계산 \n",
    "    Q[arm] = sum_rewards[arm] / count[arm]\n",
    "    \n",
    "print('The optimal arm is {}'.format(np.argmax(Q)))"
   ]
  },
  {
   "cell_type": "code",
   "execution_count": null,
   "metadata": {},
   "outputs": [],
   "source": []
  }
 ],
 "metadata": {
  "kernelspec": {
   "display_name": "Python 3",
   "language": "python",
   "name": "python3"
  },
  "language_info": {
   "codemirror_mode": {
    "name": "ipython",
    "version": 3
   },
   "file_extension": ".py",
   "mimetype": "text/x-python",
   "name": "python",
   "nbconvert_exporter": "python",
   "pygments_lexer": "ipython3",
   "version": "3.6.6"
  }
 },
 "nbformat": 4,
 "nbformat_minor": 2
}
