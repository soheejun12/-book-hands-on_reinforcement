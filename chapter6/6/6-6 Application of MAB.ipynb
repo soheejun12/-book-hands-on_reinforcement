{
 "cells": [
  {
   "cell_type": "markdown",
   "metadata": {},
   "source": [
    "# MAB의 적용 \n",
    "#### - 슬롯머신에만 사용되는 것은 아님 \n",
    "#### - AB testing을 대체하기 위해 사용 \n",
    "- AB테스트 예시)\n",
    "    - 두가지 버전이 존재하는 웹사이트 방문 페이지 \n",
    "    - 대부분의 사용자가 어떤 버전으 선호하는지를 알기 위해 AB테스트 수행 \n",
    "    - 이때, 탐험을 위한 시간, 탐색을 위한 시간을 별도로 할당 \n",
    "    - 하지만, 많은 손실(regret)이 발생할 수 있음 \n",
    "    \n",
    "- 이를 방지하기 위해 MAB에서 사용하는 여러 탐험전략을 사용하여 손실 최소화 \n",
    "\n",
    "#### - 웹사이트 최적화, 전환율 극대화, 온라인 광고, 캠페인 등에 널리 사용됨 "
   ]
  },
  {
   "cell_type": "markdown",
   "metadata": {},
   "source": [
    "# MAB를 사용하여 올바른 광고 배너 식별하기 \n",
    "#### - 웹사이트 운영자가 하나의 광고에 대해 5가지 종류의 배너가 있을 때, 고객을 유도하는 배너가 어떤 것인가 알고 싶은 경우 \n",
    "- 5개의 배너 --> 5개의 밴딧 \n",
    "- 사용자가 광고를 클릭 --> 1\n",
    "- 사용자가 광고를 클릭 안함 --> 0 \n",
    "- AB테스트의 경우에는, 모든 5개의 배너에 완벽히 조사 필요 \n",
    "- 손실 방지를 위해, 탐험전략을 사용할 것 "
   ]
  },
  {
   "cell_type": "code",
   "execution_count": 1,
   "metadata": {},
   "outputs": [],
   "source": [
    "import gym_bandits\n",
    "import gym\n",
    "import numpy as np\n",
    "import pandas as pd\n",
    "import matplotlib.pyplot as plt\n",
    "%matplotlib inline\n",
    "import seaborn as sns"
   ]
  },
  {
   "cell_type": "code",
   "execution_count": 2,
   "metadata": {},
   "outputs": [
    {
     "name": "stdout",
     "output_type": "stream",
     "text": [
      "\u001b[33mWARN: Environment '<class 'gym_bandits.bandit.BanditTenArmedGaussian'>' has deprecated methods '_step' and '_reset' rather than 'step' and 'reset'. Compatibility code invoked. Set _gym_disable_underscore_compat = True to disable this behavior.\u001b[0m\n"
     ]
    }
   ],
   "source": [
    "env = gym.make(\"BanditTenArmedGaussian-v0\")"
   ]
  },
  {
   "cell_type": "markdown",
   "metadata": {},
   "source": [
    "- 데이터 생성"
   ]
  },
  {
   "cell_type": "code",
   "execution_count": 3,
   "metadata": {},
   "outputs": [],
   "source": [
    "df = pd.DataFrame()\n",
    "df['Banner_type_0'] = np.random.randint(0,2,100000)\n",
    "df['Banner_type_1'] = np.random.randint(0,2,100000)\n",
    "df['Banner_type_2'] = np.random.randint(0,2,100000)\n",
    "df['Banner_type_3'] = np.random.randint(0,2,100000)\n",
    "df['Banner_type_4'] = np.random.randint(0,2,100000)"
   ]
  },
  {
   "cell_type": "code",
   "execution_count": 4,
   "metadata": {},
   "outputs": [
    {
     "data": {
      "text/html": [
       "<div>\n",
       "<style scoped>\n",
       "    .dataframe tbody tr th:only-of-type {\n",
       "        vertical-align: middle;\n",
       "    }\n",
       "\n",
       "    .dataframe tbody tr th {\n",
       "        vertical-align: top;\n",
       "    }\n",
       "\n",
       "    .dataframe thead th {\n",
       "        text-align: right;\n",
       "    }\n",
       "</style>\n",
       "<table border=\"1\" class=\"dataframe\">\n",
       "  <thead>\n",
       "    <tr style=\"text-align: right;\">\n",
       "      <th></th>\n",
       "      <th>Banner_type_0</th>\n",
       "      <th>Banner_type_1</th>\n",
       "      <th>Banner_type_2</th>\n",
       "      <th>Banner_type_3</th>\n",
       "      <th>Banner_type_4</th>\n",
       "    </tr>\n",
       "  </thead>\n",
       "  <tbody>\n",
       "    <tr>\n",
       "      <th>0</th>\n",
       "      <td>1</td>\n",
       "      <td>0</td>\n",
       "      <td>1</td>\n",
       "      <td>0</td>\n",
       "      <td>1</td>\n",
       "    </tr>\n",
       "    <tr>\n",
       "      <th>1</th>\n",
       "      <td>1</td>\n",
       "      <td>0</td>\n",
       "      <td>1</td>\n",
       "      <td>0</td>\n",
       "      <td>1</td>\n",
       "    </tr>\n",
       "    <tr>\n",
       "      <th>2</th>\n",
       "      <td>0</td>\n",
       "      <td>1</td>\n",
       "      <td>1</td>\n",
       "      <td>0</td>\n",
       "      <td>1</td>\n",
       "    </tr>\n",
       "    <tr>\n",
       "      <th>3</th>\n",
       "      <td>0</td>\n",
       "      <td>0</td>\n",
       "      <td>0</td>\n",
       "      <td>0</td>\n",
       "      <td>1</td>\n",
       "    </tr>\n",
       "    <tr>\n",
       "      <th>4</th>\n",
       "      <td>1</td>\n",
       "      <td>1</td>\n",
       "      <td>1</td>\n",
       "      <td>1</td>\n",
       "      <td>0</td>\n",
       "    </tr>\n",
       "    <tr>\n",
       "      <th>5</th>\n",
       "      <td>1</td>\n",
       "      <td>1</td>\n",
       "      <td>0</td>\n",
       "      <td>0</td>\n",
       "      <td>0</td>\n",
       "    </tr>\n",
       "    <tr>\n",
       "      <th>6</th>\n",
       "      <td>1</td>\n",
       "      <td>0</td>\n",
       "      <td>0</td>\n",
       "      <td>0</td>\n",
       "      <td>0</td>\n",
       "    </tr>\n",
       "    <tr>\n",
       "      <th>7</th>\n",
       "      <td>0</td>\n",
       "      <td>0</td>\n",
       "      <td>1</td>\n",
       "      <td>1</td>\n",
       "      <td>0</td>\n",
       "    </tr>\n",
       "    <tr>\n",
       "      <th>8</th>\n",
       "      <td>0</td>\n",
       "      <td>0</td>\n",
       "      <td>0</td>\n",
       "      <td>0</td>\n",
       "      <td>0</td>\n",
       "    </tr>\n",
       "    <tr>\n",
       "      <th>9</th>\n",
       "      <td>1</td>\n",
       "      <td>0</td>\n",
       "      <td>0</td>\n",
       "      <td>0</td>\n",
       "      <td>1</td>\n",
       "    </tr>\n",
       "  </tbody>\n",
       "</table>\n",
       "</div>"
      ],
      "text/plain": [
       "   Banner_type_0  Banner_type_1  Banner_type_2  Banner_type_3  Banner_type_4\n",
       "0              1              0              1              0              1\n",
       "1              1              0              1              0              1\n",
       "2              0              1              1              0              1\n",
       "3              0              0              0              0              1\n",
       "4              1              1              1              1              0\n",
       "5              1              1              0              0              0\n",
       "6              1              0              0              0              0\n",
       "7              0              0              1              1              0\n",
       "8              0              0              0              0              0\n",
       "9              1              0              0              0              1"
      ]
     },
     "execution_count": 4,
     "metadata": {},
     "output_type": "execute_result"
    }
   ],
   "source": [
    "df.head(10)"
   ]
  },
  {
   "cell_type": "code",
   "execution_count": 5,
   "metadata": {},
   "outputs": [
    {
     "name": "stdout",
     "output_type": "stream",
     "text": [
      "Banner_type_0    49805\n",
      "Banner_type_1    49960\n",
      "Banner_type_2    49912\n",
      "Banner_type_3    49900\n",
      "Banner_type_4    49964\n",
      "dtype: int64\n"
     ]
    }
   ],
   "source": [
    "print(df.sum(axis=0))"
   ]
  },
  {
   "cell_type": "code",
   "execution_count": 7,
   "metadata": {},
   "outputs": [],
   "source": [
    "num_banner = 5\n",
    "\n",
    "no_of_iterations = 100000\n",
    "\n",
    "banner_selected = [] #선택된 배너들 저장용\n",
    "\n",
    "count = np.zeros(num_banner)\n",
    "\n",
    "Q = np.zeros(num_banner)\n",
    "\n",
    "sum_rewards = np.zeros(num_banner)"
   ]
  },
  {
   "cell_type": "markdown",
   "metadata": {},
   "source": [
    "- epsilon greedy 정책 함수"
   ]
  },
  {
   "cell_type": "code",
   "execution_count": 8,
   "metadata": {},
   "outputs": [],
   "source": [
    "def epsilon_greedy(epsilon):\n",
    "    \n",
    "    random_value = np.random.random()\n",
    "    choose_random = random_value < epsilon\n",
    "    \n",
    "    if choose_random:\n",
    "        action =  np.random.choice(num_banner)\n",
    "    else:\n",
    "        action = np.argmax(Q)\n",
    "    \n",
    "    return action"
   ]
  },
  {
   "cell_type": "code",
   "execution_count": 11,
   "metadata": {},
   "outputs": [],
   "source": [
    "for i in range(no_of_iterations):\n",
    "    \n",
    "    banner = epsilon_greedy(0.5)\n",
    "        \n",
    "    reward = df.values[i, banner] #0 / 1\n",
    "    \n",
    "    count[banner] += 1\n",
    "    \n",
    "    sum_rewards[banner]+=reward\n",
    "    \n",
    "    Q[banner] = sum_rewards[banner]/count[banner]\n",
    "    \n",
    "    banner_selected.append(banner)"
   ]
  },
  {
   "cell_type": "code",
   "execution_count": 12,
   "metadata": {},
   "outputs": [
    {
     "data": {
      "text/plain": [
       "<matplotlib.axes._subplots.AxesSubplot at 0x7f5e84c5fda0>"
      ]
     },
     "execution_count": 12,
     "metadata": {},
     "output_type": "execute_result"
    },
    {
     "data": {
      "image/png": "[encoded data removed]",
      "text/plain": [
       "<Figure size 432x288 with 1 Axes>"
      ]
     },
     "metadata": {
      "needs_background": "light"
     },
     "output_type": "display_data"
    }
   ],
   "source": [
    "sns.distplot(banner_selected)"
   ]
  },
  {
   "cell_type": "markdown",
   "metadata": {},
   "source": [
    "# Contextual bandits\n",
    "#### - 하지만, 배너의 환경 설정은 사용자마다 다름 \n",
    "#### - 그러므로, 사용자 행동에 따라서 광고 배너를 맞춤 설정해야 함 \n",
    "- 문맥적 (contextual) 밴딧이 필요 \n",
    "- 일반 MAB문제에서는, 액션을 취하고 보상을 얻음 \n",
    "- Contextual bandit에서는 액션을 취하고 환경의 상태를 얻음 \n",
    "    - 상태는 context(문맥)을 가지게 됨 \n",
    "\n",
    "- 상태가 사용자의 행동을 반영하게 되면서, 우리는 상태(사용자의 행동)에 따라 최대의 보상(광고 클릭 수)을 제공하는 액션(배너 보여주기)를 취할 수 있음 \n",
    "\n",
    "#### - contextual bandit은 사용자의 선호 행동에 따른 맞춤형 콘텐츠에 널리 사용됨\n",
    "- 추천시스템의 cold-start 문제 해결에 사용됨 \n",
    "- 넷플릭스에서 사용자 행동에 기반하여 맞춤형 티비 프로그램을 제공할 때 사용 "
   ]
  },
  {
   "cell_type": "code",
   "execution_count": null,
   "metadata": {},
   "outputs": [],
   "source": []
  }
 ],
 "metadata": {
  "kernelspec": {
   "display_name": "Python 3",
   "language": "python",
   "name": "python3"
  },
  "language_info": {
   "codemirror_mode": {
    "name": "ipython",
    "version": 3
   },
   "file_extension": ".py",
   "mimetype": "text/x-python",
   "name": "python",
   "nbconvert_exporter": "python",
   "pygments_lexer": "ipython3",
   "version": "3.6.6"
  }
 },
 "nbformat": 4,
 "nbformat_minor": 2
}
