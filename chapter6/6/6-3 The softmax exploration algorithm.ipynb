{
 "cells": [
  {
   "cell_type": "markdown",
   "metadata": {},
   "source": [
    "# softmax 탐험 알고리즘 \n",
    "#### = Boltzman exploration\n",
    "#### - 최적의 밴딧을 찾는 또 다른 전략 \n",
    "- epsilon greedy에서는 최적이 아닌 레버도 공평하게 고려했지만 \n",
    "- softmax에서는 볼츠만 분포의 확률에 기반하여 레버를 선택 \n",
    "<img src=\"./image/BOLTZMAN.PNG\">\n",
    "\n",
    "    - 기호 T(tau)는 온도 계수 (Temperature Factor): 탐색할 수 있는 무작위 레버의 수를 지정 \n",
    "    - T값이 크면 레버를 똑같이 탐험, 작으면 보상이 높은 레버를 선택"
   ]
  },
  {
   "cell_type": "code",
   "execution_count": 1,
   "metadata": {},
   "outputs": [],
   "source": [
    "import gym\n",
    "import gym_bandits\n",
    "import numpy as np\n",
    "import math\n",
    "import random"
   ]
  },
  {
   "cell_type": "code",
   "execution_count": 2,
   "metadata": {},
   "outputs": [
    {
     "name": "stdout",
     "output_type": "stream",
     "text": [
      "\u001b[33mWARN: Environment '<class 'gym_bandits.bandit.BanditTenArmedGaussian'>' has deprecated methods '_step' and '_reset' rather than 'step' and 'reset'. Compatibility code invoked. Set _gym_disable_underscore_compat = True to disable this behavior.\u001b[0m\n"
     ]
    }
   ],
   "source": [
    "env = gym.make(\"BanditTenArmedGaussian-v0\")"
   ]
  },
  {
   "cell_type": "code",
   "execution_count": 3,
   "metadata": {},
   "outputs": [
    {
     "data": {
      "text/plain": [
       "0"
      ]
     },
     "execution_count": 3,
     "metadata": {},
     "output_type": "execute_result"
    }
   ],
   "source": [
    "# 라운드 수 (반복)\n",
    "num_rounds = 20000\n",
    "\n",
    "# 레버를 당긴 횟수의 횟수\n",
    "count = np.zeros(10)\n",
    "\n",
    "# 각 레버의 보상의 합계\n",
    "sum_rewards = np.zeros(10)\n",
    "\n",
    "# 평균 보상인 Q값\n",
    "Q = np.zeros(10)\n",
    "\n",
    "env.reset()"
   ]
  },
  {
   "cell_type": "markdown",
   "metadata": {},
   "source": [
    "- softmax함수 정의"
   ]
  },
  {
   "cell_type": "code",
   "execution_count": 9,
   "metadata": {},
   "outputs": [],
   "source": [
    "def softmax(tau):\n",
    "    \n",
    "    \n",
    "    total = sum([math.exp(val/tau) for val in Q])    \n",
    "    probs = [math.exp(val/tau)/total for val in Q]\n",
    "    \n",
    "    threshold = random.random()\n",
    "    cumulative_prob = 0.0\n",
    "    \n",
    "    for i in range(len(probs)):\n",
    "        cumulative_prob += probs[i]\n",
    "        \n",
    "        if (cumulative_prob > threshold):\n",
    "            return i \n",
    "        \n",
    "    return np.argmax(probs) "
   ]
  },
  {
   "cell_type": "code",
   "execution_count": 14,
   "metadata": {},
   "outputs": [
    {
     "data": {
      "text/plain": [
       "[105.57836060407467,\n",
       " 6.6847805368955076,\n",
       " 3111.6221381851406,\n",
       " 60932866.378458716,\n",
       " 1.2617533946910413e-06,\n",
       " 0.004859612850571469,\n",
       " 14.897169033681932,\n",
       " 0.003909713082697649,\n",
       " 60454.8406653637,\n",
       " 35680.61005109552]"
      ]
     },
     "execution_count": 14,
     "metadata": {},
     "output_type": "execute_result"
    }
   ],
   "source": [
    "tau = 0.1\n",
    "[math.exp(val/tau) for val in Q]"
   ]
  },
  {
   "cell_type": "code",
   "execution_count": 13,
   "metadata": {},
   "outputs": [
    {
     "data": {
      "text/plain": [
       "[1.0046703255643994,\n",
       " 1.001901639207676,\n",
       " 1.0080753304610008,\n",
       " 1.0180869054183348,\n",
       " 0.9865088245761433,\n",
       " 0.9946873657182967,\n",
       " 1.0027048226470685,\n",
       " 0.9944710499297273,\n",
       " 1.011070481179148,\n",
       " 1.0105374951191142]"
      ]
     },
     "execution_count": 13,
     "metadata": {},
     "output_type": "execute_result"
    }
   ],
   "source": [
    "tau = 100\n",
    "[math.exp(val/tau) for val in Q]"
   ]
  },
  {
   "cell_type": "markdown",
   "metadata": {},
   "source": [
    "- 레버를 당겨보자 "
   ]
  },
  {
   "cell_type": "code",
   "execution_count": 16,
   "metadata": {},
   "outputs": [
    {
     "name": "stdout",
     "output_type": "stream",
     "text": [
      "The optimal arm is 3\n"
     ]
    }
   ],
   "source": [
    "for i in range(num_rounds):\n",
    "    \n",
    "    # 소프트맥스를 사용하여 레버 선택\n",
    "    arm = softmax(0.5)\n",
    "\n",
    "    observation, reward, done, info = env.step(arm) \n",
    "\n",
    "    count[arm] += 1\n",
    "    \n",
    "    sum_rewards[arm]+=reward\n",
    "    \n",
    "    # 레버의 평균보상인 Q값을 계산\n",
    "    Q[arm] = sum_rewards[arm]/count[arm]\n",
    "    \n",
    "print( 'The optimal arm is {}'.format(np.argmax(Q)))\n",
    "\n",
    "#탐험시에 Q값이 큰 소프트맥스 적용"
   ]
  },
  {
   "cell_type": "code",
   "execution_count": 17,
   "metadata": {},
   "outputs": [
    {
     "data": {
      "text/plain": [
       "[132.7045133617458,\n",
       " 5.745320420132888,\n",
       " 3253.7849968861515,\n",
       " 60743686.592971675,\n",
       " 2.137402484821704e-07,\n",
       " 0.005674575220385765,\n",
       " 9.647413246184161,\n",
       " 0.018306458898477113,\n",
       " 52320.53465982411,\n",
       " 30143.34151605115]"
      ]
     },
     "execution_count": 17,
     "metadata": {},
     "output_type": "execute_result"
    }
   ],
   "source": [
    "tau = 0.1\n",
    "[math.exp(val/tau) for val in Q]"
   ]
  },
  {
   "cell_type": "code",
   "execution_count": 18,
   "metadata": {},
   "outputs": [
    {
     "data": {
      "text/plain": [
       "[1.0049000913250679,\n",
       " 1.0017499150008828,\n",
       " 1.0081203669854801,\n",
       " 1.0180837396265137,\n",
       " 0.9847588359845649,\n",
       " 0.9948415909539245,\n",
       " 1.0022692607054997,\n",
       " 0.9960074900093225,\n",
       " 1.0109243842405196,\n",
       " 1.0103670890580798]"
      ]
     },
     "execution_count": 18,
     "metadata": {},
     "output_type": "execute_result"
    }
   ],
   "source": [
    "tau = 100\n",
    "[math.exp(val/tau) for val in Q]"
   ]
  },
  {
   "cell_type": "code",
   "execution_count": null,
   "metadata": {},
   "outputs": [],
   "source": []
  },
  {
   "cell_type": "code",
   "execution_count": null,
   "metadata": {},
   "outputs": [],
   "source": []
  }
 ],
 "metadata": {
  "kernelspec": {
   "display_name": "Python 3",
   "language": "python",
   "name": "python3"
  },
  "language_info": {
   "codemirror_mode": {
    "name": "ipython",
    "version": 3
   },
   "file_extension": ".py",
   "mimetype": "text/x-python",
   "name": "python",
   "nbconvert_exporter": "python",
   "pygments_lexer": "ipython3",
   "version": "3.6.6"
  }
 },
 "nbformat": 4,
 "nbformat_minor": 2
}
