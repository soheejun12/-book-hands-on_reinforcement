{
 "cells": [
  {
   "cell_type": "markdown",
   "metadata": {},
   "source": [
    "# SARSA \n",
    "#### State-Action-Reward-State-Action \n",
    "#### - on policy TD control 알고리즘 \n",
    "#### - Q학습과 마찬가지로 (state, action) 쌍에 집중 \n",
    "\n",
    "### * 업데이트 규칙\n",
    "<img src = \"./image/SARSA.PNG\">\n",
    "\n",
    "- Q학습과 달리 max[Q(s',a')]가 아닌 그냥 Q(s',a')\n",
    "\n",
    "### * SARSA 알고리즘 순서 \n",
    "<img src = \"./image/FLOW_CHART_SARSA.PNG\">\n",
    "\n",
    "- 1. 임의의 값으로 Q값 초기화\n",
    "- 2. epsilon greedy 정책을 통해 상태에 대한 액션을 수행하여 다음 상태로 이동\n",
    "- 3. 위의 업데이트 규칙에 따라 Q값 업데이트\n",
    "    - a'는 epsilon greedy 정책을 통해 선택된 액션 \n",
    "    \n",
    "\n",
    "### * FROZEN LAKE 환경 예시 \n",
    "<img src = \"./image/FROZEN_LAKE_SARSA.PNG\">\n",
    "\n",
    "- 현재 상태(위치)는 (4, 2)\n",
    "    - (1 - epsilon)의 확률로 최적의 액션인 'right' 선택 (탐색) \n",
    "    \n",
    " \n",
    "- 이제 현재 상태는 (4, 3), 이전 상태 (4, 2)에 대한 가치를 업데이트 해보자 \n",
    "    - 학습률 = 0.1\n",
    "    - 할인계수 = 1\n",
    "    - 보상 = 0.3\n",
    "    \n",
    "<img src = \"./image/SARSA2.PNG\">\n",
    "\n",
    "Q((4, 2), right) = Q((4, 2), right) + 0.1 * (0.3 + 1 * Q((4, 3), action)) - Q((4, 2), right)\n",
    "\n",
    "    - 이 때, Q((4, 3), action) 을 구하는 방법\n",
    "        - Q학습은 max 사용 \n",
    "        - SARSA는 epsilon-greedy 사용 \n",
    "             - epsilon의 확률로 탐험, (1-epsilon)의 확률로 탐색 \n",
    "        \n",
    "<img src = \"./image/FROZEN_LAKE_SARSA2.PNG\">\n",
    "\n",
    "    - epsilon의 확률로 새로운 액션인 'right'를 탐험하기로 선택 \n",
    "    \n",
    "Q((4, 2), right) = Q((4, 2), right) + 0.1 * (0.3 + 1 * Q((4, 3), right)) - Q((4, 2), right)   \n",
    "                 = 0.8 + 0.1 * (0.3 + 1 * (0.9) - 0.8)\n",
    "                 = 0.84\n",
    "                 \n",
    "#### 즉,  SARSA는 epsilon greedy 정책을 사용하여 액션을 선택하고 Q값을 업데이트 할 때도 epsilon greedy 정책을 사용하고 액션 선택"
   ]
  },
  {
   "cell_type": "code",
   "execution_count": null,
   "metadata": {},
   "outputs": [],
   "source": []
  }
 ],
 "metadata": {
  "kernelspec": {
   "display_name": "Python 3",
   "language": "python",
   "name": "python3"
  },
  "language_info": {
   "codemirror_mode": {
    "name": "ipython",
    "version": 3
   },
   "file_extension": ".py",
   "mimetype": "text/x-python",
   "name": "python",
   "nbconvert_exporter": "python",
   "pygments_lexer": "ipython3",
   "version": "3.6.6"
  }
 },
 "nbformat": 4,
 "nbformat_minor": 2
}
