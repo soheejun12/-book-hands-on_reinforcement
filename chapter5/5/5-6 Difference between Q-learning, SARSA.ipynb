{
 "cells": [
  {
   "cell_type": "markdown",
   "metadata": {},
   "source": [
    "# Q학습과 SARSA의 차이점 \n",
    "<img src = \"./image/FLOW_CHART_Q_SARSA.PNG\">"
   ]
  },
  {
   "cell_type": "markdown",
   "metadata": {},
   "source": [
    "### - Q학습 \n",
    "- epsilon greedy를 통해 액션 선택 \n",
    "- max값을 통해 Q값 업데이트 \n",
    "\n",
    "### - SARSA \n",
    "- epsilon greedy를 통해 액션 선택\n",
    "- epsilon greedy를 통해 Q값 업데이트"
   ]
  },
  {
   "cell_type": "code",
   "execution_count": null,
   "metadata": {},
   "outputs": [],
   "source": []
  }
 ],
 "metadata": {
  "kernelspec": {
   "display_name": "Python 3",
   "language": "python",
   "name": "python3"
  },
  "language_info": {
   "codemirror_mode": {
    "name": "ipython",
    "version": 3
   },
   "file_extension": ".py",
   "mimetype": "text/x-python",
   "name": "python",
   "nbconvert_exporter": "python",
   "pygments_lexer": "ipython3",
   "version": "3.6.6"
  }
 },
 "nbformat": 4,
 "nbformat_minor": 2
}
